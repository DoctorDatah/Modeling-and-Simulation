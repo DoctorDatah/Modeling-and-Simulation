{
 "cells": [
  {
   "cell_type": "markdown",
   "metadata": {},
   "source": [
    "# Number of Head in 2 coins"
   ]
  },
  {
   "cell_type": "code",
   "execution_count": 23,
   "metadata": {},
   "outputs": [],
   "source": [
    "import numpy as np\n",
    "import pandas as pd\n",
    "\n",
    "nsim = 10000\n",
    "choices = np.array(['H','T'])\n",
    "result = np.empty(nsim)"
   ]
  },
  {
   "cell_type": "code",
   "execution_count": 35,
   "metadata": {},
   "outputs": [
    {
     "data": {
      "text/plain": [
       "1.0    0.4991\n",
       "2.0    0.2516\n",
       "0.0    0.2493\n",
       "Name: Number of Heads, dtype: float64"
      ]
     },
     "execution_count": 35,
     "metadata": {},
     "output_type": "execute_result"
    }
   ],
   "source": [
    "for i in range(nsim):\n",
    "    toss1 = np.random.choice(choices)\n",
    "    toss2 = np.random.choice(choices)\n",
    "    \n",
    "    # Save total number of heads in each simulations\n",
    "    result[i] = (toss1 == 'H') + (toss2 == 'H')\n",
    "\n",
    "results_df = pd.DataFrame(result, columns=['Number of Heads'])\n",
    "# Divide by number of simulations to get proportion\n",
    "results_df['Number of Heads'].value_counts()/nsim "
   ]
  },
  {
   "cell_type": "code",
   "execution_count": null,
   "metadata": {},
   "outputs": [],
   "source": []
  }
 ],
 "metadata": {
  "kernelspec": {
   "display_name": "Python 3",
   "language": "python",
   "name": "python3"
  },
  "language_info": {
   "codemirror_mode": {
    "name": "ipython",
    "version": 3
   },
   "file_extension": ".py",
   "mimetype": "text/x-python",
   "name": "python",
   "nbconvert_exporter": "python",
   "pygments_lexer": "ipython3",
   "version": "3.7.4"
  }
 },
 "nbformat": 4,
 "nbformat_minor": 4
}
