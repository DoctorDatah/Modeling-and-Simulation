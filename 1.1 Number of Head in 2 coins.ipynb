{
 "cells": [
  {
   "cell_type": "markdown",
   "metadata": {},
   "source": [
    "# Number of Head in 2 coins"
   ]
  },
  {
   "cell_type": "markdown",
   "metadata": {},
   "source": [
    "Let X be the number of heads in two coin tosses. The coins are assumed fair. \n",
    "\n",
    "a. What is the probability mass function of X?<br>\n",
    "P(X=0) = 25% , P(X=1) = 50% , P(X=2) = 25% <br>\n",
    "\n",
    "b. Verify that this probability mass function satisfy the two conditions.\n",
    "1. Non negative\n",
    "2. 25% + 50% + 25% = 100% \n",
    "\n",
    "c. How can you simulate from this probability mass function to verify the probabilities empirically?\n",
    " "
   ]
  },
  {
   "cell_type": "code",
   "execution_count": 8,
   "metadata": {},
   "outputs": [],
   "source": [
    "import numpy as np\n",
    "import pandas as pd\n",
    "import matplotlib.pyplot as plt \n",
    "%matplotlib inline\n",
    "import seaborn as sns\n",
    "\n",
    "nsim = 10000\n",
    "choices = np.array(['H','T'])\n",
    "result = np.empty(nsim)"
   ]
  },
  {
   "cell_type": "code",
   "execution_count": 34,
   "metadata": {},
   "outputs": [
    {
     "data": {
      "text/plain": [
       "1.0    0.5042\n",
       "0.0    0.2542\n",
       "2.0    0.2416\n",
       "Name: Number of Heads, dtype: float64"
      ]
     },
     "execution_count": 34,
     "metadata": {},
     "output_type": "execute_result"
    }
   ],
   "source": [
    "for i in range(nsim):\n",
    "    toss1 = np.random.choice(choices)\n",
    "    toss2 = np.random.choice(choices)\n",
    "    \n",
    "    # Save total number of heads in each simulations\n",
    "    result[i] = (toss1 == 'H') + (toss2 == 'H')\n",
    "\n",
    "results_df = pd.DataFrame(result, columns=['Number of Heads'])\n",
    "# Divide by number of simulations to get proportion\n",
    "results_df['Number of Heads'].value_counts()/nsim "
   ]
  },
  {
   "cell_type": "code",
   "execution_count": null,
   "metadata": {},
   "outputs": [],
   "source": []
  }
 ],
 "metadata": {
  "kernelspec": {
   "display_name": "Python 3",
   "language": "python",
   "name": "python3"
  },
  "language_info": {
   "codemirror_mode": {
    "name": "ipython",
    "version": 3
   },
   "file_extension": ".py",
   "mimetype": "text/x-python",
   "name": "python",
   "nbconvert_exporter": "python",
   "pygments_lexer": "ipython3",
   "version": "3.7.4"
  }
 },
 "nbformat": 4,
 "nbformat_minor": 4
}
