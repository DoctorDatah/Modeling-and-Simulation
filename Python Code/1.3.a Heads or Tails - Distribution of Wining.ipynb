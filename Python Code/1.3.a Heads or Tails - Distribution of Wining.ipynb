{
 "cells": [
  {
   "cell_type": "markdown",
   "metadata": {},
   "source": [
    "# Heads or Tails - Distribution of Winning"
   ]
  },
  {
   "cell_type": "markdown",
   "metadata": {},
   "source": [
    "(Example 1.4 from Introduction to Probability) You play a game with me as follows. \n",
    "\n",
    "A fair coin is tossed. If a head shows up, I give you a dollar. If a tail shows up, you give me a dollar. \n",
    "\n",
    "**a. Suppose we play this game 10 times. Let X be your net winning after 10 times. Can you design a simulation to study the distribution of X?**\n",
    "\n",
    "b. Suppose you keep playing this game until you win $5. Let Y be the length of the game you have to play. Can you design a simulation to study the distribution of Y?\n"
   ]
  },
  {
   "cell_type": "code",
   "execution_count": 41,
   "metadata": {},
   "outputs": [],
   "source": [
    "import numpy as np\n",
    "import pandas as pd\n",
    "import matplotlib.pyplot as plt \n",
    "%matplotlib inline"
   ]
  },
  {
   "cell_type": "code",
   "execution_count": 42,
   "metadata": {},
   "outputs": [],
   "source": [
    "nsim = 10000\n",
    "ngames=10\n",
    "choices = (1,-1)\n",
    "winning = np.empty(nsim)"
   ]
  },
  {
   "cell_type": "code",
   "execution_count": 43,
   "metadata": {},
   "outputs": [],
   "source": [
    "for i in range(nsim):\n",
    "    single_game = np.random.choice(choices,size=ngames)    \n",
    "    \n",
    "    # Result for each simulation \n",
    "    winning[i] = sum(single_game)\n"
   ]
  },
  {
   "cell_type": "code",
   "execution_count": 44,
   "metadata": {},
   "outputs": [
    {
     "data": {
      "image/png": "[encoded data removed]",
      "text/plain": [
       "<Figure size 432x288 with 1 Axes>"
      ]
     },
     "metadata": {
      "needs_background": "light"
     },
     "output_type": "display_data"
    }
   ],
   "source": [
    "_ = plt.hist(winning,bins=10)\n",
    "_ = plt.xlabel('Winning/Losing')\n",
    "_ = plt.ylabel('Frequency')"
   ]
  },
  {
   "cell_type": "markdown",
   "metadata": {},
   "source": [
    "# Pythonic Style"
   ]
  },
  {
   "cell_type": "code",
   "execution_count": 47,
   "metadata": {},
   "outputs": [
    {
     "name": "stdin",
     "output_type": "stream",
     "text": [
      "Once deleted, variables cannot be recovered. Proceed (y/[n])?  y\n"
     ]
    }
   ],
   "source": [
    "%reset\n",
    "import numpy as np\n",
    "import pandas as pd\n",
    "import matplotlib.pyplot as plt \n",
    "%matplotlib inline\n",
    "\n",
    "# Proceed with yess"
   ]
  },
  {
   "cell_type": "code",
   "execution_count": 48,
   "metadata": {},
   "outputs": [],
   "source": [
    "nsim = 10000\n",
    "ngames=10\n",
    "choices = (1,-1)"
   ]
  },
  {
   "cell_type": "code",
   "execution_count": 49,
   "metadata": {},
   "outputs": [],
   "source": [
    "def simulate():\n",
    "    for i in range(nsim):\n",
    "            single_game = np.random.choice(choices,size=ngames)    \n",
    "\n",
    "            # Result for each simulation \n",
    "            yield sum(single_game)\n"
   ]
  },
  {
   "cell_type": "code",
   "execution_count": 50,
   "metadata": {},
   "outputs": [],
   "source": [
    "winning = [x for x in simulate()]"
   ]
  },
  {
   "cell_type": "code",
   "execution_count": 51,
   "metadata": {},
   "outputs": [
    {
     "data": {
      "image/png": "[encoded data removed]",
      "text/plain": [
       "<Figure size 432x288 with 1 Axes>"
      ]
     },
     "metadata": {
      "needs_background": "light"
     },
     "output_type": "display_data"
    }
   ],
   "source": [
    "_ = plt.hist(winning,bins=10)\n",
    "_ = plt.xlabel('Winning/Losing')\n",
    "_ = plt.ylabel('Frequency')"
   ]
  },
  {
   "cell_type": "code",
   "execution_count": null,
   "metadata": {},
   "outputs": [],
   "source": []
  }
 ],
 "metadata": {
  "kernelspec": {
   "display_name": "Python 3",
   "language": "python",
   "name": "python3"
  },
  "language_info": {
   "codemirror_mode": {
    "name": "ipython",
    "version": 3
   },
   "file_extension": ".py",
   "mimetype": "text/x-python",
   "name": "python",
   "nbconvert_exporter": "python",
   "pygments_lexer": "ipython3",
   "version": "3.7.4"
  }
 },
 "nbformat": 4,
 "nbformat_minor": 4
}
