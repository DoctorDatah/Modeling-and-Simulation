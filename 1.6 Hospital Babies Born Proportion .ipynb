{
 "cells": [
  {
   "cell_type": "markdown",
   "metadata": {},
   "source": [
    "# Problem\n",
    "\n",
    "The psychologist Tversky and his colleagues say that about four out of ﬁve people will answer (1) to the following question: \n",
    "\n",
    "A certain town is served by two hospitals. In the larger hospital about 45 babies are born each day, and in the smaller hospital 15 babies are born each day. Although the overall proportion of boys is about 50 percent, the actual proportion at either hospital may be more or less than 50 percent on any day.\n"
   ]
  },
  {
   "cell_type": "markdown",
   "metadata": {},
   "source": [
    "At the end of a year, which hospital will have the greater number of days on which more than 60 percent of the babies born were boys?\n",
    " 1. the large hospital \n",
    " 2. the small hospital \n",
    " 3. neither—the number of days will be about the same.\n",
    " \n",
    "Assume that the probability that a baby is a boy is .5 (actual estimates make this more like .513). Decide, by simulation, what the right answer is to the question. Can you suggest why so many people go wrong?\n"
   ]
  },
  {
   "cell_type": "code",
   "execution_count": 1,
   "metadata": {},
   "outputs": [],
   "source": [
    "import numpy as np\n",
    "import pandas as pd\n",
    "import matplotlib.pyplot as plt \n",
    "import seaborn as sns\n",
    "%matplotlib inline"
   ]
  },
  {
   "cell_type": "code",
   "execution_count": 2,
   "metadata": {},
   "outputs": [],
   "source": [
    "N_SIMMULATIONS = 200\n",
    "\n",
    "NUMBER_OF_DAYS = 365\n",
    "BOY_OR_GIRL = (True,False)\n",
    "BIRTHS_LARGE_HOSPITAL_PER_DAY = 45\n",
    "BIRTHS_SMALL_HOSPITAL_PER_DAY = 15\n",
    "\n",
    "overall_reusult_large_hospital = []\n",
    "overall_reusult_small_hospital = []"
   ]
  },
  {
   "cell_type": "code",
   "execution_count": 3,
   "metadata": {},
   "outputs": [],
   "source": [
    "def per_year_baby_boy_birth_porpotion():\n",
    "    \"\"\"\n",
    "    Returns the proption of boys born over the year\n",
    "    \"\"\"\n",
    "    large_hospital_year_results = np.empty(NUMBER_OF_DAYS)\n",
    "    small_hospital_year_results = np.empty(NUMBER_OF_DAYS)\n",
    "    \n",
    "    for i in range(NUMBER_OF_DAYS):\n",
    "        large_hospital_births_over_day = np.random.choice(BOY_OR_GIRL,size=BIRTHS_LARGE_HOSPITAL_PER_DAY, replace=True)\n",
    "        large_hospital_year_results[i] = np.mean(large_hospital_births_over_day)\n",
    "        \n",
    "        small_hospital_births_over_day = np.random.choice(BOY_OR_GIRL,size=BIRTHS_SMALL_HOSPITAL_PER_DAY, replace=True)\n",
    "        small_hospital_year_results[i] = np.mean(small_hospital_births_over_day)\n",
    "        \n",
    "    return large_hospital_year_results, small_hospital_year_results\n",
    "    "
   ]
  },
  {
   "cell_type": "code",
   "execution_count": 4,
   "metadata": {},
   "outputs": [],
   "source": [
    "def simulate():\n",
    "    for j in range(N_SIMMULATIONS):\n",
    "        large_year, small_year = per_year_baby_boy_birth_porpotion()\n",
    "        overall_reusult_large_hospital.append(sum(np.greater_equal(large_year,0.6)))\n",
    "        overall_reusult_small_hospital.append(sum(np.greater_equal(small_year,0.6)))    "
   ]
  },
  {
   "cell_type": "code",
   "execution_count": 5,
   "metadata": {},
   "outputs": [],
   "source": [
    "simulate()"
   ]
  },
  {
   "cell_type": "code",
   "execution_count": 6,
   "metadata": {},
   "outputs": [
    {
     "data": {
      "text/plain": [
       "Text(0.5, 1.0, 'Large Hospital')"
      ]
     },
     "execution_count": 6,
     "metadata": {},
     "output_type": "execute_result"
    },
    {
     "data": {
      "image/png": "[encoded data removed]",
      "text/plain": [
       "<Figure size 432x288 with 1 Axes>"
      ]
     },
     "metadata": {
      "needs_background": "light"
     },
     "output_type": "display_data"
    }
   ],
   "source": [
    "_  = plt.hist(overall_reusult_large_hospital)\n",
    "plt.xlabel('Number of days with with more then 60% boys')\n",
    "plt.ylabel('Frequecy of such Days')\n",
    "plt.title('Large Hospital')"
   ]
  },
  {
   "cell_type": "code",
   "execution_count": 8,
   "metadata": {},
   "outputs": [
    {
     "data": {
      "text/plain": [
       "Text(0.5, 1.0, 'Small Hospital')"
      ]
     },
     "execution_count": 8,
     "metadata": {},
     "output_type": "execute_result"
    },
    {
     "data": {
      "image/png": "[encoded data removed]",
      "text/plain": [
       "<Figure size 432x288 with 1 Axes>"
      ]
     },
     "metadata": {
      "needs_background": "light"
     },
     "output_type": "display_data"
    }
   ],
   "source": [
    "_  = plt.hist(overall_reusult_small_hospital)\n",
    "plt.xlabel('Number of days with with more then 60% boys')\n",
    "plt.ylabel('Frequecy of such Days')\n",
    "plt.title('Small Hospital')"
   ]
  },
  {
   "cell_type": "markdown",
   "metadata": {},
   "source": [
    "Small Hospital is more likely to have more then 60% boys "
   ]
  },
  {
   "cell_type": "markdown",
   "metadata": {},
   "source": [
    "### Intuition:\n",
    "\n",
    "Large hospital have large number of births (i.e more observations as compare to small hospital).<br>\n",
    "Hence, According to Central Limit Theorem it is less likely to divert from the true value.( 0.5 chance of boy birth)\n",
    "\n",
    "vise versa for small hospital. It is more likely to divert from the true value because it has less number of observations. "
   ]
  },
  {
   "cell_type": "code",
   "execution_count": null,
   "metadata": {},
   "outputs": [],
   "source": []
  }
 ],
 "metadata": {
  "kernelspec": {
   "display_name": "Python 3",
   "language": "python",
   "name": "python3"
  },
  "language_info": {
   "codemirror_mode": {
    "name": "ipython",
    "version": 3
   },
   "file_extension": ".py",
   "mimetype": "text/x-python",
   "name": "python",
   "nbconvert_exporter": "python",
   "pygments_lexer": "ipython3",
   "version": "3.7.4"
  }
 },
 "nbformat": 4,
 "nbformat_minor": 4
}
