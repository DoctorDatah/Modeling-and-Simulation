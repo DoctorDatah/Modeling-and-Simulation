{
 "cells": [
  {
   "cell_type": "markdown",
   "metadata": {},
   "source": [
    "# Problem\n",
    "\n",
    "The psychologist Tversky and his colleagues11 say that about four out of ﬁve people will answer (a) to the following question: A certain town is served by two hospitals. In the larger hospital about 45 babies are born each day, and in the smaller hospital 15 babies are born each day. Although the overall proportion of boys is about 50 percent, the actual proportion at either hospital may be more or less than 50 percent on any day.\n"
   ]
  },
  {
   "cell_type": "markdown",
   "metadata": {},
   "source": [
    "At the end of a year, which hospital will have the greater number of days on which more than 60 percent of the babies born were boys?\n",
    " 1. the large hospital \n",
    " 2. the small hospital \n",
    " 3. neither—the number of days will be about the same.\n",
    " \n",
    "Assume that the probability that a baby is a boy is .5 (actual estimates make this more like .513). Decide, by simulation, what the right answer is to the question. Can you suggest why so many people go wrong?\n"
   ]
  },
  {
   "cell_type": "code",
   "execution_count": 1,
   "metadata": {},
   "outputs": [],
   "source": [
    "import numpy as np\n",
    "import pandas as pd\n",
    "import matplotlib.pyplot as plt \n",
    "%matplotlib inline"
   ]
  },
  {
   "cell_type": "code",
   "execution_count": 2,
   "metadata": {},
   "outputs": [],
   "source": [
    "N_SIMMULATIONS = 200\n",
    "\n",
    "NUMBER_OF_DAYS = 365\n",
    "BOY_OR_GIRL = (True,False)\n",
    "BIRTHS_LARGE_HOSPITAL_PER_DAY = 45\n",
    "BIRTHS_SMALL_HOSPITAL_PER_DAY = 15\n",
    "\n",
    "large_hospital_year_results = np.empty(NUMBER_OF_DAYS)\n",
    "small_hospital_year_results = np.empty(NUMBER_OF_DAYS)\n",
    "\n",
    "overall_reusult_large_hospital = np.empty(N_SIMMULATIONS)\n",
    "overall_reusult_small_hospital = np.empty(N_SIMMULATIONS)"
   ]
  },
  {
   "cell_type": "code",
   "execution_count": 3,
   "metadata": {},
   "outputs": [],
   "source": [
    "def per_year_baby_boy_birth_odds():\n",
    "    for i in range(NUMBER_OF_DAYS):\n",
    "        large_hospital_births_over_day = np.random.choice(BOY_OR_GIRL,size=BIRTHS_LARGE_HOSPITAL_PER_DAY, replace=True)\n",
    "        large_hospital_year_results[i] = np.mean(large_hospital_births_over_day)\n",
    "        \n",
    "        small_hospital_births_over_day = np.random.choice(BOY_OR_GIRL,size=BIRTHS_SMALL_HOSPITAL_PER_DAY, replace=True)\n",
    "        small_hospital_year_results[i] = np.mean(small_hospital_births_over_day)\n",
    "        \n",
    "    return large_hospital_year_results, small_hospital_year_results\n",
    "    "
   ]
  },
  {
   "cell_type": "code",
   "execution_count": 4,
   "metadata": {},
   "outputs": [],
   "source": [
    "def simulate():\n",
    "    for j in range(N_SIMMULATIONS):\n",
    "        large_year, small_year = per_year_baby_boy_birth_odds()\n",
    "        overall_reusult_large_hospital[j] = sum(large_year)\n",
    "        overall_reusult_small_hospital[j] = sum(small_year)\n",
    "        return overall_reusult_large_hospital, overall_reusult_small_hospital\n",
    "    "
   ]
  },
  {
   "cell_type": "code",
   "execution_count": 5,
   "metadata": {},
   "outputs": [],
   "source": [
    "#def visualize():\n",
    "large , small = simulate()\n"
   ]
  },
  {
   "cell_type": "code",
   "execution_count": 17,
   "metadata": {},
   "outputs": [
    {
     "data": {
      "text/plain": [
       "array([1.83777778e+002, 1.21639551e-311, 0.00000000e+000, 6.95231519e-310,\n",
       "       9.63428009e-322, 1.21632334e-311, 1.21637890e-311, 6.95231521e-310,\n",
       "       1.21639553e-311, 1.21639554e-311, 6.95231521e-310, 1.21639553e-311,\n",
       "       1.21639554e-311, 6.95231519e-310, 1.21639554e-311, 6.95231519e-310,\n",
       "       1.21639553e-311, 1.21639552e-311, 1.21639553e-311, 1.21639552e-311,\n",
       "       1.21639553e-311, 1.21639554e-311, 6.95231519e-310, 1.21639553e-311,\n",
       "       1.21639554e-311, 1.21639553e-311, 1.21639554e-311, 1.21639553e-311,\n",
       "       1.21639554e-311, 1.21639554e-311, 1.21639554e-311, 1.21639554e-311,\n",
       "       1.21639554e-311, 1.21639554e-311, 1.21639554e-311, 1.21639554e-311,\n",
       "       1.21639554e-311, 1.21639554e-311, 1.21639554e-311, 1.21628694e-311,\n",
       "       1.21639554e-311, 1.21639554e-311, 1.21639554e-311, 1.21639554e-311,\n",
       "       1.21639554e-311, 1.21639554e-311, 1.21639554e-311, 1.21639554e-311,\n",
       "       1.21639554e-311, 1.21639555e-311, 1.21639554e-311, 1.21639555e-311,\n",
       "       1.21639554e-311, 1.21639555e-311, 1.21639554e-311, 1.21639555e-311,\n",
       "       1.21639554e-311, 1.21639555e-311, 1.21639555e-311, 1.21639555e-311,\n",
       "       1.21639555e-311, 1.21639555e-311, 1.21639555e-311, 1.21639555e-311,\n",
       "       1.21639555e-311, 1.21639555e-311, 1.21639555e-311, 1.21639555e-311,\n",
       "       1.21639555e-311, 1.21639555e-311, 1.21639555e-311, 1.21639555e-311,\n",
       "       1.21639555e-311, 1.21639556e-311, 1.21639555e-311, 1.21639556e-311,\n",
       "       1.21639555e-311, 1.21639556e-311, 1.21639555e-311, 1.21639556e-311,\n",
       "       1.21639556e-311, 1.21639556e-311, 1.21639556e-311, 1.21639556e-311,\n",
       "       1.21639555e-311, 1.21639556e-311, 1.21639556e-311, 1.21639556e-311,\n",
       "       1.21639556e-311, 1.21639556e-311, 1.21639556e-311, 1.21639556e-311,\n",
       "       1.21639556e-311, 1.21639556e-311, 1.21639556e-311, 1.21639556e-311,\n",
       "       1.21639556e-311, 1.21639556e-311, 1.21639556e-311, 1.21639556e-311,\n",
       "       1.21639556e-311, 1.21639556e-311, 1.21639556e-311, 1.21639556e-311,\n",
       "       1.21639556e-311, 1.21639556e-311, 1.21639556e-311, 1.21639556e-311,\n",
       "       1.21639556e-311, 1.21639556e-311, 1.21639556e-311, 1.21639557e-311,\n",
       "       1.21639556e-311, 1.21639557e-311, 1.21639556e-311, 1.21639557e-311,\n",
       "       1.21639556e-311, 1.21639557e-311, 1.21639556e-311, 1.21639557e-311,\n",
       "       1.21639556e-311, 1.21639557e-311, 1.21639556e-311, 1.21639557e-311,\n",
       "       1.21639556e-311, 1.21639557e-311, 1.21639556e-311, 1.21639557e-311,\n",
       "       1.21639556e-311, 1.21639557e-311, 1.21639556e-311, 1.21639557e-311,\n",
       "       1.21639557e-311, 1.21639557e-311, 1.21639557e-311, 1.21639557e-311,\n",
       "       1.21639557e-311, 1.21639557e-311, 1.21639557e-311, 1.21639557e-311,\n",
       "       1.21639557e-311, 1.21639557e-311, 1.21639558e-311, 1.21639557e-311,\n",
       "       1.21639558e-311, 1.21639557e-311, 1.21639557e-311, 1.21639557e-311,\n",
       "       1.21639557e-311, 1.21639557e-311, 1.21639557e-311, 1.21639558e-311,\n",
       "       1.21639557e-311, 1.21639558e-311, 1.21639557e-311, 1.21639558e-311,\n",
       "       1.21639557e-311, 1.21639558e-311, 1.21639558e-311, 1.21639557e-311,\n",
       "       1.21639558e-311, 1.21639558e-311, 1.21639558e-311, 1.21639557e-311,\n",
       "       1.21639558e-311, 1.21639557e-311, 1.21639558e-311, 1.21639557e-311,\n",
       "       1.21639558e-311, 1.21639558e-311, 1.21639558e-311, 1.21639558e-311,\n",
       "       1.21639558e-311, 1.21639558e-311, 1.21639558e-311, 1.21639557e-311,\n",
       "       1.21639558e-311, 1.21639557e-311, 1.21639558e-311, 1.21639557e-311,\n",
       "       1.21639558e-311, 1.21639557e-311, 1.21639558e-311, 1.21639558e-311,\n",
       "       1.21639558e-311, 1.21639558e-311, 1.21639558e-311, 1.21639558e-311,\n",
       "       1.21639558e-311, 1.21639558e-311, 1.21639558e-311, 1.21639558e-311,\n",
       "       1.21639558e-311, 1.21639558e-311, 1.21639558e-311, 1.21639558e-311,\n",
       "       1.21639558e-311, 1.21639558e-311, 1.21639558e-311, 1.21631038e-311])"
      ]
     },
     "execution_count": 17,
     "metadata": {},
     "output_type": "execute_result"
    }
   ],
   "source": [
    "large"
   ]
  },
  {
   "cell_type": "code",
   "execution_count": 12,
   "metadata": {},
   "outputs": [
    {
     "name": "stderr",
     "output_type": "stream",
     "text": [
      "C:\\Users\\malik\\AppData\\Local\\Continuum\\miniconda3\\lib\\site-packages\\numpy\\lib\\histograms.py:839: RuntimeWarning: invalid value encountered in greater_equal\n",
      "  keep = (tmp_a >= first_edge)\n",
      "C:\\Users\\malik\\AppData\\Local\\Continuum\\miniconda3\\lib\\site-packages\\numpy\\lib\\histograms.py:840: RuntimeWarning: invalid value encountered in less_equal\n",
      "  keep &= (tmp_a <= last_edge)\n"
     ]
    },
    {
     "data": {
      "text/plain": [
       "(array([198.,   0.,   0.,   0.,   0.,   0.,   0.,   0.,   0.,   1.]),\n",
       " array([  0.        ,  18.12888889,  36.25777778,  54.38666667,\n",
       "         72.51555556,  90.64444444, 108.77333333, 126.90222222,\n",
       "        145.03111111, 163.16      , 181.28888889]),\n",
       " <a list of 10 Patch objects>)"
      ]
     },
     "execution_count": 12,
     "metadata": {},
     "output_type": "execute_result"
    },
    {
     "data": {
      "image/png": "[encoded data removed]",
      "text/plain": [
       "<Figure size 432x288 with 1 Axes>"
      ]
     },
     "metadata": {
      "needs_background": "light"
     },
     "output_type": "display_data"
    }
   ],
   "source": [
    "plt.hist(large,)"
   ]
  },
  {
   "cell_type": "code",
   "execution_count": null,
   "metadata": {},
   "outputs": [],
   "source": []
  }
 ],
 "metadata": {
  "kernelspec": {
   "display_name": "Python 3",
   "language": "python",
   "name": "python3"
  },
  "language_info": {
   "codemirror_mode": {
    "name": "ipython",
    "version": 3
   },
   "file_extension": ".py",
   "mimetype": "text/x-python",
   "name": "python",
   "nbconvert_exporter": "python",
   "pygments_lexer": "ipython3",
   "version": "3.7.4"
  }
 },
 "nbformat": 4,
 "nbformat_minor": 4
}
