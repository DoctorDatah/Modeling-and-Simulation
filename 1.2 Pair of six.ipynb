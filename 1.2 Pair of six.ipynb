{
 "cells": [
  {
   "cell_type": "markdown",
   "metadata": {},
   "source": [
    "# Pair of Six"
   ]
  },
  {
   "cell_type": "code",
   "execution_count": 8,
   "metadata": {},
   "outputs": [],
   "source": [
    "import numpy as np\n",
    "import pandas as pd\n",
    "nsim = 10000\n",
    "choices = np.array(range(1,7))\n",
    "result = list(np.repeat(np.nan, nsim))"
   ]
  },
  {
   "cell_type": "code",
   "execution_count": 9,
   "metadata": {},
   "outputs": [
    {
     "data": {
      "text/plain": [
       "lose    0.9694\n",
       "win     0.0306\n",
       "Name: Number of wins/lose, dtype: float64"
      ]
     },
     "execution_count": 9,
     "metadata": {},
     "output_type": "execute_result"
    }
   ],
   "source": [
    "for i in range(nsim):\n",
    "    roll1 = np.random.choice(choices)\n",
    "    roll2 = np.random.choice(choices)\n",
    "    \n",
    "    # Win/lose for each simulation \n",
    "    if(roll1+roll2 == 12):\n",
    "        result[i] = 'win'\n",
    "    else: result[i] = 'lose'\n",
    "    \n",
    "results_df = pd.DataFrame(result, columns=['Number of wins/lose'])\n",
    "results_df['Number of wins/lose'].value_counts()/nsim"
   ]
  },
  {
   "cell_type": "code",
   "execution_count": null,
   "metadata": {},
   "outputs": [],
   "source": []
  }
 ],
 "metadata": {
  "kernelspec": {
   "display_name": "Python 3",
   "language": "python",
   "name": "python3"
  },
  "language_info": {
   "codemirror_mode": {
    "name": "ipython",
    "version": 3
   },
   "file_extension": ".py",
   "mimetype": "text/x-python",
   "name": "python",
   "nbconvert_exporter": "python",
   "pygments_lexer": "ipython3",
   "version": "3.7.4"
  }
 },
 "nbformat": 4,
 "nbformat_minor": 4
}
