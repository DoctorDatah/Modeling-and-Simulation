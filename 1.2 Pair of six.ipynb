{
 "cells": [
  {
   "cell_type": "markdown",
   "metadata": {},
   "source": [
    "# Pair of Six"
   ]
  },
  {
   "cell_type": "markdown",
   "metadata": {},
   "source": [
    "(Example 1.3 from Introduction to Probability) Simulation is especially useful when the probabilities are hard to calculate mathematically. \n",
    "\n",
    "Suppose we roll a pair of fair dice. A gambler bets that, in 10 rolls, a pair of six would show up. What is his chance of winning? \n",
    "\n",
    "Describe how you would run a simulation to estimate his chance of winning.\n"
   ]
  },
  {
   "cell_type": "code",
   "execution_count": 1,
   "metadata": {},
   "outputs": [],
   "source": [
    "import numpy as np\n",
    "import pandas as pd\n",
    "nsim = 10000\n",
    "choices = np.array(range(1,7))\n",
    "result = list(np.empty(nsim))"
   ]
  },
  {
   "cell_type": "code",
   "execution_count": 2,
   "metadata": {},
   "outputs": [
    {
     "data": {
      "text/plain": [
       "lose    0.9711\n",
       "win     0.0289\n",
       "Name: Number of wins/lose, dtype: float64"
      ]
     },
     "execution_count": 2,
     "metadata": {},
     "output_type": "execute_result"
    }
   ],
   "source": [
    "for i in range(nsim):\n",
    "    roll1 = np.random.choice(choices)\n",
    "    roll2 = np.random.choice(choices)\n",
    "    \n",
    "    # Win/lose for each simulation \n",
    "    if(roll1+roll2 == 12):\n",
    "        result[i] = 'win'\n",
    "    else: result[i] = 'lose'\n",
    "    \n",
    "results_df = pd.DataFrame(result, columns=['Number of wins/lose'])\n",
    "results_df['Number of wins/lose'].value_counts()/nsim"
   ]
  },
  {
   "cell_type": "markdown",
   "metadata": {},
   "source": [
    "Can you calculate the exact probability mathematically?"
   ]
  },
  {
   "cell_type": "markdown",
   "metadata": {},
   "source": [
    "P(atleast one pair of 6) = 1 - P(No Pair of 6) = 1 - (35/36)^10"
   ]
  },
  {
   "cell_type": "code",
   "execution_count": null,
   "metadata": {},
   "outputs": [],
   "source": []
  }
 ],
 "metadata": {
  "kernelspec": {
   "display_name": "Python 3",
   "language": "python",
   "name": "python3"
  },
  "language_info": {
   "codemirror_mode": {
    "name": "ipython",
    "version": 3
   },
   "file_extension": ".py",
   "mimetype": "text/x-python",
   "name": "python",
   "nbconvert_exporter": "python",
   "pygments_lexer": "ipython3",
   "version": "3.7.4"
  }
 },
 "nbformat": 4,
 "nbformat_minor": 4
}
