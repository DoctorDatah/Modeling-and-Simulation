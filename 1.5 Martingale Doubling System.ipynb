{
 "cells": [
  {
   "cell_type": "markdown",
   "metadata": {},
   "source": [
    "# Martingale Doubling System"
   ]
  },
  {
   "cell_type": "markdown",
   "metadata": {},
   "source": [
    "Another well-known gambling system is the martingale doubling system. \n",
    "\n",
    "Suppose that you are betting on red to turn up in roulette. Every time you win,\n",
    "bet 1 dollar next time. Every time you lose, double your previous bet. Suppose\n",
    "that you use this system until you have won at least 5 dollars or you have lost\n",
    "more than 100 dollars. \n",
    "\n",
    "Write a program to simulate this and play it a number\n",
    "of times and see how you do. \n",
    "\n",
    "In his book The Newcomes, W. M. Thackeray remarks “You have not played as yet? Do not do so; above all avoid a\n",
    "martingale if you do.” Was this good advice?"
   ]
  },
  {
   "cell_type": "markdown",
   "metadata": {},
   "source": [
    "Note: in roulette, probability of red is 18/38. Are you more likely to win 5 dollars or to lose 100 dollars? Design a simulation to ﬁnd the answer. "
   ]
  },
  {
   "cell_type": "code",
   "execution_count": 1,
   "metadata": {},
   "outputs": [],
   "source": [
    "import numpy as np\n",
    "import pandas as pd\n",
    "import matplotlib.pyplot as plt \n",
    "%matplotlib inline"
   ]
  },
  {
   "cell_type": "code",
   "execution_count": 2,
   "metadata": {},
   "outputs": [],
   "source": [
    "RED_OR_NOT = (True,False)\n",
    "RED_PROBABILITY_DIST = (18/38,20/38)\n",
    "GAME_LENGTH = 100\n",
    "\n",
    "N_SIMULATIONS = 1000\n",
    "result_length = np.empty(N_SIMULATIONS)\n",
    "results = np.empty(N_SIMULATIONS)"
   ]
  },
  {
   "cell_type": "markdown",
   "metadata": {},
   "source": [
    "### Single Game"
   ]
  },
  {
   "cell_type": "code",
   "execution_count": 3,
   "metadata": {},
   "outputs": [],
   "source": [
    "def single_game():\n",
    "    \n",
    "    net_winning = 0\n",
    "    current_bet = 1\n",
    "    current_game = 0\n",
    "    \n",
    "    while(net_winning < 5 and net_winning >-100 and current_game < GAME_LENGTH):\n",
    "        is_red = np.random.choice(RED_OR_NOT, size=1, p=RED_PROBABILITY_DIST)\n",
    "\n",
    "        if is_red:\n",
    "            net_winning += current_bet\n",
    "            current_bet = 1\n",
    "        else:\n",
    "            net_winning -= current_bet\n",
    "            current_bet = current_bet*2    \n",
    "        current_game += 1\n",
    "    # End While loop\n",
    "    return current_game , net_winning"
   ]
  },
  {
   "cell_type": "markdown",
   "metadata": {},
   "source": [
    "### Simulation"
   ]
  },
  {
   "cell_type": "code",
   "execution_count": 4,
   "metadata": {},
   "outputs": [],
   "source": [
    "for i in range(N_SIMULATIONS):\n",
    "    result_length[i] , results[i] = single_game()"
   ]
  },
  {
   "cell_type": "markdown",
   "metadata": {},
   "source": [
    "### Number of Wins and Lose: "
   ]
  },
  {
   "cell_type": "code",
   "execution_count": 5,
   "metadata": {},
   "outputs": [
    {
     "data": {
      "text/plain": [
       "False     52\n",
       "True     948\n",
       "dtype: int64"
      ]
     },
     "execution_count": 5,
     "metadata": {},
     "output_type": "execute_result"
    }
   ],
   "source": [
    "wins = pd.Categorical(results == 5)\n",
    "wins.value_counts()"
   ]
  },
  {
   "cell_type": "markdown",
   "metadata": {},
   "source": [
    "We are more likely to win"
   ]
  },
  {
   "cell_type": "markdown",
   "metadata": {},
   "source": [
    "### Game Length Resulting Win 5$:"
   ]
  },
  {
   "cell_type": "code",
   "execution_count": 6,
   "metadata": {},
   "outputs": [
    {
     "data": {
      "image/png": "[encoded data removed]",
      "text/plain": [
       "<Figure size 432x288 with 1 Axes>"
      ]
     },
     "metadata": {
      "needs_background": "light"
     },
     "output_type": "display_data"
    }
   ],
   "source": [
    "win_length = result_length[results == 5]\n",
    "_ = plt.hist(win_length)\n",
    "plt.title('Game Length Resulting Win 5$')\n",
    "_ = plt.xticks(np.arange(min(win_length), max(win_length)+1, 5))\n"
   ]
  },
  {
   "cell_type": "code",
   "execution_count": null,
   "metadata": {},
   "outputs": [],
   "source": []
  }
 ],
 "metadata": {
  "kernelspec": {
   "display_name": "Python 3",
   "language": "python",
   "name": "python3"
  },
  "language_info": {
   "codemirror_mode": {
    "name": "ipython",
    "version": 3
   },
   "file_extension": ".py",
   "mimetype": "text/x-python",
   "name": "python",
   "nbconvert_exporter": "python",
   "pygments_lexer": "ipython3",
   "version": "3.7.4"
  }
 },
 "nbformat": 4,
 "nbformat_minor": 4
}
