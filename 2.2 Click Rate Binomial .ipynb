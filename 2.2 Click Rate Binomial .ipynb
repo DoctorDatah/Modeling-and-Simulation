{
 "cells": [
  {
   "cell_type": "markdown",
   "metadata": {},
   "source": [
    "There is a 2% click rate for an online advertisement. \n",
    "\n",
    "The number of people that will click on the advertisement among the next 100 people can be modeled by a binomial distribution. \n",
    "1. What are the parameters of the binomial distribution? \n"
   ]
  },
  {
   "cell_type": "markdown",
   "metadata": {},
   "source": [
    "n = 100 <br>\n",
    "p = 0.02"
   ]
  },
  {
   "cell_type": "code",
   "execution_count": 11,
   "metadata": {},
   "outputs": [],
   "source": [
    "NUMBER_OF_TRIALS = 100\n",
    "PROBABILITY = 0.02"
   ]
  },
  {
   "cell_type": "markdown",
   "metadata": {},
   "source": [
    "2. Discuss the binomial model assumptions in the context of the problem. \n"
   ]
  },
  {
   "cell_type": "markdown",
   "metadata": {},
   "source": [
    "- (1) We assume that each person clicks the advertisement independently of each other; that is, one person’s action does not aﬀect the action of the next person. This assumption is reasonable if the 100 people are randomlysampled. Wewanttoavoidsituationslikesamplingagroupoffriendsbecause, for instance, if one person clicks the advertisement, her friend might be more likely to also click it.\n",
    "\n",
    "- (2) We also assume that each person has the same probability of clicking the advertisement. This assumption may be invalid because some populations (like certain age groups, certain regions, one gender, etc.) can have diﬀerent probabilities of clicking the advertisement. It is therefore important to carefully deﬁne the population when conducting this type of research. "
   ]
  },
  {
   "cell_type": "markdown",
   "metadata": {},
   "source": [
    "3. Use your computer to calculate, among the next 100 people: the probability that exactly two people click the advertisement; the probability that no one clicks the advertisement; the probability that 5 or more people click the advertisement."
   ]
  },
  {
   "cell_type": "code",
   "execution_count": 8,
   "metadata": {},
   "outputs": [],
   "source": [
    "from scipy.stats import binom\n",
    "import matplotlib.pyplot as plt\n",
    "import seaborn as sns"
   ]
  },
  {
   "cell_type": "code",
   "execution_count": 21,
   "metadata": {},
   "outputs": [
    {
     "data": {
      "text/plain": [
       "0.1326195558947532"
      ]
     },
     "execution_count": 21,
     "metadata": {},
     "output_type": "execute_result"
    }
   ],
   "source": [
    "# No one Clicks the advertisment\n",
    "X = 0 \n",
    "binom.pmf(X, n=NUMBER_OF_TRIALS,p=PROBABILITY)"
   ]
  },
  {
   "cell_type": "code",
   "execution_count": 38,
   "metadata": {},
   "outputs": [
    {
     "data": {
      "text/plain": [
       "0.05083044536951575"
      ]
     },
     "execution_count": 38,
     "metadata": {},
     "output_type": "execute_result"
    }
   ],
   "source": [
    "# Five or more Clicks the advertisment\n",
    "X = range(0,5)  # 0 to 4\n",
    "\n",
    "# 1 - binom(0:4 , 100, 0.02 )\n",
    "1 - np.sum(binom.pmf(X, n=NUMBER_OF_TRIALS,p=PROBABILITY))"
   ]
  },
  {
   "cell_type": "markdown",
   "metadata": {},
   "source": [
    "---------------------------------"
   ]
  }
 ],
 "metadata": {
  "kernelspec": {
   "display_name": "Python 3",
   "language": "python",
   "name": "python3"
  },
  "language_info": {
   "codemirror_mode": {
    "name": "ipython",
    "version": 3
   },
   "file_extension": ".py",
   "mimetype": "text/x-python",
   "name": "python",
   "nbconvert_exporter": "python",
   "pygments_lexer": "ipython3",
   "version": "3.7.4"
  }
 },
 "nbformat": 4,
 "nbformat_minor": 4
}
