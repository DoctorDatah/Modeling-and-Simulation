{
 "cells": [
  {
   "cell_type": "markdown",
   "metadata": {},
   "source": [
    "# Sum of 3 dice rolls"
   ]
  },
  {
   "cell_type": "markdown",
   "metadata": {},
   "source": [
    "Suppose you roll three fair dice and calculate the sum of the three rolls. Is the sum more likely to be 9 or 10? \n",
    "\n",
    "Simulate the result of three dice rolls on https://www.random.org/dice/ for a few times and record your result. \n",
    "\n",
    "Describe how you would run a simulation to estimate the probability that the sum is 9 and the probability that the sum is 10. \n",
    "\n",
    "The following algorithm performs this simulation: \n",
    "- Step 1: Randomly draw three fair dice and calculate the sum M1; \n",
    "- Step 2: Repeat Step 1 for K times, recording M1,...,MK, where K is a large number. "
   ]
  },
  {
   "cell_type": "code",
   "execution_count": 1,
   "metadata": {},
   "outputs": [],
   "source": [
    "import numpy as np\n",
    "import pandas as pd\n",
    "import matplotlib.pyplot as plt \n",
    "%matplotlib inline"
   ]
  },
  {
   "cell_type": "code",
   "execution_count": 21,
   "metadata": {},
   "outputs": [],
   "source": [
    "nsim = 10000\n",
    "choices = list(range(1,7))\n",
    "results = np.empty(nsim)"
   ]
  },
  {
   "cell_type": "code",
   "execution_count": 22,
   "metadata": {},
   "outputs": [
    {
     "data": {
      "image/png": "[encoded data removed]",
      "text/plain": [
       "<Figure size 432x288 with 1 Axes>"
      ]
     },
     "metadata": {
      "needs_background": "light"
     },
     "output_type": "display_data"
    }
   ],
   "source": [
    "for i in range(nsim):\n",
    "    dice_rolls = np.random.choice(choices, size=3) # Roll 3 dice\n",
    "    results[i] = sum(dice_rolls)\n",
    "\n",
    "plt.hist(results)\n",
    "plt.title(\"Sum of 3 Dice\")\n",
    "_ = plt.xticks(ticks=list(range(1,19)))"
   ]
  },
  {
   "cell_type": "markdown",
   "metadata": {},
   "source": [
    "The larger the number of simulations the larger the chances that our expected value is approx. equal to true value"
   ]
  },
  {
   "cell_type": "code",
   "execution_count": null,
   "metadata": {},
   "outputs": [],
   "source": []
  }
 ],
 "metadata": {
  "kernelspec": {
   "display_name": "Python 3",
   "language": "python",
   "name": "python3"
  },
  "language_info": {
   "codemirror_mode": {
    "name": "ipython",
    "version": 3
   },
   "file_extension": ".py",
   "mimetype": "text/x-python",
   "name": "python",
   "nbconvert_exporter": "python",
   "pygments_lexer": "ipython3",
   "version": "3.7.4"
  }
 },
 "nbformat": 4,
 "nbformat_minor": 4
}
